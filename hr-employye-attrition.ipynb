{
 "cells": [
  {
   "cell_type": "code",
   "execution_count": 2,
   "id": "fe6b31a6",
   "metadata": {},
   "outputs": [],
   "source": [
    "import pandas as pd\n",
    "import numpy as np\n",
    "import seaborn as sns\n",
    "import matplotlib.pyplot as plt"
   ]
  },
  {
   "cell_type": "code",
   "execution_count": 3,
   "id": "8ed251cf",
   "metadata": {},
   "outputs": [
    {
     "data": {
      "text/html": [
       "<div>\n",
       "<style scoped>\n",
       "    .dataframe tbody tr th:only-of-type {\n",
       "        vertical-align: middle;\n",
       "    }\n",
       "\n",
       "    .dataframe tbody tr th {\n",
       "        vertical-align: top;\n",
       "    }\n",
       "\n",
       "    .dataframe thead th {\n",
       "        text-align: right;\n",
       "    }\n",
       "</style>\n",
       "<table border=\"1\" class=\"dataframe\">\n",
       "  <thead>\n",
       "    <tr style=\"text-align: right;\">\n",
       "      <th></th>\n",
       "      <th>EmployeeID</th>\n",
       "      <th>FirstName</th>\n",
       "      <th>LastName</th>\n",
       "      <th>Gender</th>\n",
       "      <th>Age</th>\n",
       "      <th>BusinessTravel</th>\n",
       "      <th>Department</th>\n",
       "      <th>DistanceFromHome (KM)</th>\n",
       "      <th>State</th>\n",
       "      <th>Ethnicity</th>\n",
       "      <th>...</th>\n",
       "      <th>MaritalStatus</th>\n",
       "      <th>Salary</th>\n",
       "      <th>StockOptionLevel</th>\n",
       "      <th>OverTime</th>\n",
       "      <th>HireDate</th>\n",
       "      <th>Attrition</th>\n",
       "      <th>YearsAtCompany</th>\n",
       "      <th>YearsInMostRecentRole</th>\n",
       "      <th>YearsSinceLastPromotion</th>\n",
       "      <th>YearsWithCurrManager</th>\n",
       "    </tr>\n",
       "  </thead>\n",
       "  <tbody>\n",
       "    <tr>\n",
       "      <th>0</th>\n",
       "      <td>3012-1A41</td>\n",
       "      <td>Leonelle</td>\n",
       "      <td>Simco</td>\n",
       "      <td>Female</td>\n",
       "      <td>30</td>\n",
       "      <td>Some Travel</td>\n",
       "      <td>Sales</td>\n",
       "      <td>27</td>\n",
       "      <td>IL</td>\n",
       "      <td>White</td>\n",
       "      <td>...</td>\n",
       "      <td>Divorced</td>\n",
       "      <td>102059</td>\n",
       "      <td>1</td>\n",
       "      <td>No</td>\n",
       "      <td>2012-01-03</td>\n",
       "      <td>No</td>\n",
       "      <td>10</td>\n",
       "      <td>4</td>\n",
       "      <td>9</td>\n",
       "      <td>7</td>\n",
       "    </tr>\n",
       "    <tr>\n",
       "      <th>1</th>\n",
       "      <td>CBCB-9C9D</td>\n",
       "      <td>Leonerd</td>\n",
       "      <td>Aland</td>\n",
       "      <td>Male</td>\n",
       "      <td>38</td>\n",
       "      <td>Some Travel</td>\n",
       "      <td>Sales</td>\n",
       "      <td>23</td>\n",
       "      <td>CA</td>\n",
       "      <td>White</td>\n",
       "      <td>...</td>\n",
       "      <td>Single</td>\n",
       "      <td>157718</td>\n",
       "      <td>0</td>\n",
       "      <td>Yes</td>\n",
       "      <td>2012-01-04</td>\n",
       "      <td>No</td>\n",
       "      <td>10</td>\n",
       "      <td>6</td>\n",
       "      <td>10</td>\n",
       "      <td>0</td>\n",
       "    </tr>\n",
       "    <tr>\n",
       "      <th>2</th>\n",
       "      <td>95D7-1CE9</td>\n",
       "      <td>Ahmed</td>\n",
       "      <td>Sykes</td>\n",
       "      <td>Male</td>\n",
       "      <td>43</td>\n",
       "      <td>Some Travel</td>\n",
       "      <td>Human Resources</td>\n",
       "      <td>29</td>\n",
       "      <td>CA</td>\n",
       "      <td>Asian or Asian American</td>\n",
       "      <td>...</td>\n",
       "      <td>Married</td>\n",
       "      <td>309964</td>\n",
       "      <td>1</td>\n",
       "      <td>No</td>\n",
       "      <td>2012-01-04</td>\n",
       "      <td>No</td>\n",
       "      <td>10</td>\n",
       "      <td>6</td>\n",
       "      <td>10</td>\n",
       "      <td>8</td>\n",
       "    </tr>\n",
       "    <tr>\n",
       "      <th>3</th>\n",
       "      <td>47A0-559B</td>\n",
       "      <td>Ermentrude</td>\n",
       "      <td>Berrie</td>\n",
       "      <td>Non-Binary</td>\n",
       "      <td>39</td>\n",
       "      <td>Some Travel</td>\n",
       "      <td>Technology</td>\n",
       "      <td>12</td>\n",
       "      <td>IL</td>\n",
       "      <td>White</td>\n",
       "      <td>...</td>\n",
       "      <td>Married</td>\n",
       "      <td>293132</td>\n",
       "      <td>0</td>\n",
       "      <td>No</td>\n",
       "      <td>2012-01-05</td>\n",
       "      <td>No</td>\n",
       "      <td>10</td>\n",
       "      <td>10</td>\n",
       "      <td>10</td>\n",
       "      <td>0</td>\n",
       "    </tr>\n",
       "    <tr>\n",
       "      <th>4</th>\n",
       "      <td>42CC-040A</td>\n",
       "      <td>Stace</td>\n",
       "      <td>Savege</td>\n",
       "      <td>Female</td>\n",
       "      <td>29</td>\n",
       "      <td>Some Travel</td>\n",
       "      <td>Human Resources</td>\n",
       "      <td>29</td>\n",
       "      <td>CA</td>\n",
       "      <td>White</td>\n",
       "      <td>...</td>\n",
       "      <td>Single</td>\n",
       "      <td>49606</td>\n",
       "      <td>0</td>\n",
       "      <td>No</td>\n",
       "      <td>2012-01-05</td>\n",
       "      <td>Yes</td>\n",
       "      <td>6</td>\n",
       "      <td>1</td>\n",
       "      <td>1</td>\n",
       "      <td>6</td>\n",
       "    </tr>\n",
       "    <tr>\n",
       "      <th>...</th>\n",
       "      <td>...</td>\n",
       "      <td>...</td>\n",
       "      <td>...</td>\n",
       "      <td>...</td>\n",
       "      <td>...</td>\n",
       "      <td>...</td>\n",
       "      <td>...</td>\n",
       "      <td>...</td>\n",
       "      <td>...</td>\n",
       "      <td>...</td>\n",
       "      <td>...</td>\n",
       "      <td>...</td>\n",
       "      <td>...</td>\n",
       "      <td>...</td>\n",
       "      <td>...</td>\n",
       "      <td>...</td>\n",
       "      <td>...</td>\n",
       "      <td>...</td>\n",
       "      <td>...</td>\n",
       "      <td>...</td>\n",
       "      <td>...</td>\n",
       "    </tr>\n",
       "    <tr>\n",
       "      <th>1465</th>\n",
       "      <td>467E-977A</td>\n",
       "      <td>Jud</td>\n",
       "      <td>Melanaphy</td>\n",
       "      <td>Male</td>\n",
       "      <td>20</td>\n",
       "      <td>Some Travel</td>\n",
       "      <td>Technology</td>\n",
       "      <td>28</td>\n",
       "      <td>CA</td>\n",
       "      <td>Black or African American</td>\n",
       "      <td>...</td>\n",
       "      <td>Single</td>\n",
       "      <td>38508</td>\n",
       "      <td>0</td>\n",
       "      <td>No</td>\n",
       "      <td>2022-12-26</td>\n",
       "      <td>No</td>\n",
       "      <td>0</td>\n",
       "      <td>0</td>\n",
       "      <td>0</td>\n",
       "      <td>0</td>\n",
       "    </tr>\n",
       "    <tr>\n",
       "      <th>1466</th>\n",
       "      <td>6FB9-A624</td>\n",
       "      <td>Marc</td>\n",
       "      <td>Calver</td>\n",
       "      <td>Non-Binary</td>\n",
       "      <td>27</td>\n",
       "      <td>Some Travel</td>\n",
       "      <td>Technology</td>\n",
       "      <td>8</td>\n",
       "      <td>CA</td>\n",
       "      <td>Black or African American</td>\n",
       "      <td>...</td>\n",
       "      <td>Single</td>\n",
       "      <td>92995</td>\n",
       "      <td>3</td>\n",
       "      <td>No</td>\n",
       "      <td>2022-12-30</td>\n",
       "      <td>No</td>\n",
       "      <td>0</td>\n",
       "      <td>0</td>\n",
       "      <td>0</td>\n",
       "      <td>0</td>\n",
       "    </tr>\n",
       "    <tr>\n",
       "      <th>1467</th>\n",
       "      <td>EBF4-5928</td>\n",
       "      <td>Rudolph</td>\n",
       "      <td>MacDearmont</td>\n",
       "      <td>Male</td>\n",
       "      <td>21</td>\n",
       "      <td>Some Travel</td>\n",
       "      <td>Sales</td>\n",
       "      <td>4</td>\n",
       "      <td>CA</td>\n",
       "      <td>Black or African American</td>\n",
       "      <td>...</td>\n",
       "      <td>Single</td>\n",
       "      <td>63375</td>\n",
       "      <td>0</td>\n",
       "      <td>No</td>\n",
       "      <td>2022-12-30</td>\n",
       "      <td>No</td>\n",
       "      <td>0</td>\n",
       "      <td>0</td>\n",
       "      <td>0</td>\n",
       "      <td>0</td>\n",
       "    </tr>\n",
       "    <tr>\n",
       "      <th>1468</th>\n",
       "      <td>60E6-B1D9</td>\n",
       "      <td>Merill</td>\n",
       "      <td>Agg</td>\n",
       "      <td>Male</td>\n",
       "      <td>21</td>\n",
       "      <td>Some Travel</td>\n",
       "      <td>Technology</td>\n",
       "      <td>7</td>\n",
       "      <td>CA</td>\n",
       "      <td>Black or African American</td>\n",
       "      <td>...</td>\n",
       "      <td>Married</td>\n",
       "      <td>46521</td>\n",
       "      <td>0</td>\n",
       "      <td>No</td>\n",
       "      <td>2022-12-30</td>\n",
       "      <td>No</td>\n",
       "      <td>0</td>\n",
       "      <td>0</td>\n",
       "      <td>0</td>\n",
       "      <td>0</td>\n",
       "    </tr>\n",
       "    <tr>\n",
       "      <th>1469</th>\n",
       "      <td>84D4-D4C3</td>\n",
       "      <td>Naoma</td>\n",
       "      <td>Hebbard</td>\n",
       "      <td>Female</td>\n",
       "      <td>20</td>\n",
       "      <td>No Travel</td>\n",
       "      <td>Technology</td>\n",
       "      <td>28</td>\n",
       "      <td>CA</td>\n",
       "      <td>Black or African American</td>\n",
       "      <td>...</td>\n",
       "      <td>Married</td>\n",
       "      <td>38258</td>\n",
       "      <td>0</td>\n",
       "      <td>No</td>\n",
       "      <td>2022-12-31</td>\n",
       "      <td>No</td>\n",
       "      <td>0</td>\n",
       "      <td>0</td>\n",
       "      <td>0</td>\n",
       "      <td>0</td>\n",
       "    </tr>\n",
       "  </tbody>\n",
       "</table>\n",
       "<p>1470 rows × 23 columns</p>\n",
       "</div>"
      ],
      "text/plain": [
       "     EmployeeID   FirstName     LastName      Gender  Age BusinessTravel  \\\n",
       "0     3012-1A41    Leonelle        Simco      Female   30    Some Travel   \n",
       "1     CBCB-9C9D     Leonerd        Aland        Male   38    Some Travel   \n",
       "2     95D7-1CE9       Ahmed        Sykes        Male   43    Some Travel   \n",
       "3     47A0-559B  Ermentrude       Berrie  Non-Binary   39    Some Travel   \n",
       "4     42CC-040A       Stace       Savege      Female   29    Some Travel   \n",
       "...         ...         ...          ...         ...  ...            ...   \n",
       "1465  467E-977A         Jud    Melanaphy        Male   20    Some Travel   \n",
       "1466  6FB9-A624        Marc       Calver  Non-Binary   27    Some Travel   \n",
       "1467  EBF4-5928     Rudolph  MacDearmont        Male   21    Some Travel   \n",
       "1468  60E6-B1D9      Merill          Agg        Male   21    Some Travel   \n",
       "1469  84D4-D4C3       Naoma      Hebbard      Female   20      No Travel   \n",
       "\n",
       "           Department  DistanceFromHome (KM) State                  Ethnicity  \\\n",
       "0               Sales                     27    IL                      White   \n",
       "1               Sales                     23    CA                      White   \n",
       "2     Human Resources                     29    CA    Asian or Asian American   \n",
       "3          Technology                     12    IL                      White   \n",
       "4     Human Resources                     29    CA                      White   \n",
       "...               ...                    ...   ...                        ...   \n",
       "1465       Technology                     28    CA  Black or African American   \n",
       "1466       Technology                      8    CA  Black or African American   \n",
       "1467            Sales                      4    CA  Black or African American   \n",
       "1468       Technology                      7    CA  Black or African American   \n",
       "1469       Technology                     28    CA  Black or African American   \n",
       "\n",
       "      ...  MaritalStatus  Salary StockOptionLevel OverTime    HireDate  \\\n",
       "0     ...       Divorced  102059                1       No  2012-01-03   \n",
       "1     ...         Single  157718                0      Yes  2012-01-04   \n",
       "2     ...        Married  309964                1       No  2012-01-04   \n",
       "3     ...        Married  293132                0       No  2012-01-05   \n",
       "4     ...         Single   49606                0       No  2012-01-05   \n",
       "...   ...            ...     ...              ...      ...         ...   \n",
       "1465  ...         Single   38508                0       No  2022-12-26   \n",
       "1466  ...         Single   92995                3       No  2022-12-30   \n",
       "1467  ...         Single   63375                0       No  2022-12-30   \n",
       "1468  ...        Married   46521                0       No  2022-12-30   \n",
       "1469  ...        Married   38258                0       No  2022-12-31   \n",
       "\n",
       "      Attrition YearsAtCompany YearsInMostRecentRole YearsSinceLastPromotion  \\\n",
       "0            No             10                     4                       9   \n",
       "1            No             10                     6                      10   \n",
       "2            No             10                     6                      10   \n",
       "3            No             10                    10                      10   \n",
       "4           Yes              6                     1                       1   \n",
       "...         ...            ...                   ...                     ...   \n",
       "1465         No              0                     0                       0   \n",
       "1466         No              0                     0                       0   \n",
       "1467         No              0                     0                       0   \n",
       "1468         No              0                     0                       0   \n",
       "1469         No              0                     0                       0   \n",
       "\n",
       "      YearsWithCurrManager  \n",
       "0                        7  \n",
       "1                        0  \n",
       "2                        8  \n",
       "3                        0  \n",
       "4                        6  \n",
       "...                    ...  \n",
       "1465                     0  \n",
       "1466                     0  \n",
       "1467                     0  \n",
       "1468                     0  \n",
       "1469                     0  \n",
       "\n",
       "[1470 rows x 23 columns]"
      ]
     },
     "execution_count": 3,
     "metadata": {},
     "output_type": "execute_result"
    }
   ],
   "source": [
    "df=pd.read_csv('/Users/estherajuzieogu/Downloads/hr_data/employee.csv')\n",
    "education = pd.read_csv('/Users/estherajuzieogu/Downloads/hr_data/education_level.csv')\n",
    "rating = pd.read_csv('/Users/estherajuzieogu/Downloads/hr_data/performance_rating.csv')\n",
    "df"
   ]
  },
  {
   "cell_type": "code",
   "execution_count": 4,
   "id": "ffb50cba",
   "metadata": {},
   "outputs": [
    {
     "name": "stdout",
     "output_type": "stream",
     "text": [
      "<class 'pandas.core.frame.DataFrame'>\n",
      "RangeIndex: 1470 entries, 0 to 1469\n",
      "Data columns (total 23 columns):\n",
      " #   Column                   Non-Null Count  Dtype \n",
      "---  ------                   --------------  ----- \n",
      " 0   EmployeeID               1470 non-null   object\n",
      " 1   FirstName                1470 non-null   object\n",
      " 2   LastName                 1470 non-null   object\n",
      " 3   Gender                   1470 non-null   object\n",
      " 4   Age                      1470 non-null   int64 \n",
      " 5   BusinessTravel           1470 non-null   object\n",
      " 6   Department               1470 non-null   object\n",
      " 7   DistanceFromHome (KM)    1470 non-null   int64 \n",
      " 8   State                    1470 non-null   object\n",
      " 9   Ethnicity                1470 non-null   object\n",
      " 10  Education                1470 non-null   int64 \n",
      " 11  EducationField           1470 non-null   object\n",
      " 12  JobRole                  1470 non-null   object\n",
      " 13  MaritalStatus            1470 non-null   object\n",
      " 14  Salary                   1470 non-null   int64 \n",
      " 15  StockOptionLevel         1470 non-null   int64 \n",
      " 16  OverTime                 1470 non-null   object\n",
      " 17  HireDate                 1470 non-null   object\n",
      " 18  Attrition                1470 non-null   object\n",
      " 19  YearsAtCompany           1470 non-null   int64 \n",
      " 20  YearsInMostRecentRole    1470 non-null   int64 \n",
      " 21  YearsSinceLastPromotion  1470 non-null   int64 \n",
      " 22  YearsWithCurrManager     1470 non-null   int64 \n",
      "dtypes: int64(9), object(14)\n",
      "memory usage: 264.3+ KB\n"
     ]
    }
   ],
   "source": [
    "df.info()"
   ]
  },
  {
   "cell_type": "code",
   "execution_count": 4,
   "id": "e92cbe36",
   "metadata": {},
   "outputs": [
    {
     "data": {
      "text/plain": [
       "EmployeeID                 0\n",
       "FirstName                  0\n",
       "LastName                   0\n",
       "Gender                     0\n",
       "Age                        0\n",
       "BusinessTravel             0\n",
       "Department                 0\n",
       "DistanceFromHome (KM)      0\n",
       "State                      0\n",
       "Ethnicity                  0\n",
       "Education                  0\n",
       "EducationField             0\n",
       "JobRole                    0\n",
       "MaritalStatus              0\n",
       "Salary                     0\n",
       "StockOptionLevel           0\n",
       "OverTime                   0\n",
       "HireDate                   0\n",
       "Attrition                  0\n",
       "YearsAtCompany             0\n",
       "YearsInMostRecentRole      0\n",
       "YearsSinceLastPromotion    0\n",
       "YearsWithCurrManager       0\n",
       "dtype: int64"
      ]
     },
     "execution_count": 4,
     "metadata": {},
     "output_type": "execute_result"
    }
   ],
   "source": [
    "# Check for null values\n",
    "df.isna().sum()"
   ]
  },
  {
   "cell_type": "code",
   "execution_count": 7,
   "id": "39358f4d",
   "metadata": {},
   "outputs": [
    {
     "name": "stdout",
     "output_type": "stream",
     "text": [
      "(1470, 23)\n"
     ]
    },
    {
     "data": {
      "text/html": [
       "<div>\n",
       "<style scoped>\n",
       "    .dataframe tbody tr th:only-of-type {\n",
       "        vertical-align: middle;\n",
       "    }\n",
       "\n",
       "    .dataframe tbody tr th {\n",
       "        vertical-align: top;\n",
       "    }\n",
       "\n",
       "    .dataframe thead th {\n",
       "        text-align: right;\n",
       "    }\n",
       "</style>\n",
       "<table border=\"1\" class=\"dataframe\">\n",
       "  <thead>\n",
       "    <tr style=\"text-align: right;\">\n",
       "      <th></th>\n",
       "      <th>EmployeeID</th>\n",
       "      <th>FirstName</th>\n",
       "      <th>LastName</th>\n",
       "      <th>Gender</th>\n",
       "      <th>Age</th>\n",
       "      <th>BusinessTravel</th>\n",
       "      <th>Department</th>\n",
       "      <th>DistanceFromHome (KM)</th>\n",
       "      <th>State</th>\n",
       "      <th>Ethnicity</th>\n",
       "      <th>...</th>\n",
       "      <th>MaritalStatus</th>\n",
       "      <th>Salary</th>\n",
       "      <th>StockOptionLevel</th>\n",
       "      <th>OverTime</th>\n",
       "      <th>HireDate</th>\n",
       "      <th>Attrition</th>\n",
       "      <th>YearsAtCompany</th>\n",
       "      <th>YearsInMostRecentRole</th>\n",
       "      <th>YearsSinceLastPromotion</th>\n",
       "      <th>YearsWithCurrManager</th>\n",
       "    </tr>\n",
       "  </thead>\n",
       "  <tbody>\n",
       "    <tr>\n",
       "      <th>0</th>\n",
       "      <td>3012-1A41</td>\n",
       "      <td>Leonelle</td>\n",
       "      <td>Simco</td>\n",
       "      <td>Female</td>\n",
       "      <td>30</td>\n",
       "      <td>Some Travel</td>\n",
       "      <td>Sales</td>\n",
       "      <td>27</td>\n",
       "      <td>IL</td>\n",
       "      <td>White</td>\n",
       "      <td>...</td>\n",
       "      <td>Divorced</td>\n",
       "      <td>102059</td>\n",
       "      <td>1</td>\n",
       "      <td>No</td>\n",
       "      <td>2012-01-03</td>\n",
       "      <td>No</td>\n",
       "      <td>10</td>\n",
       "      <td>4</td>\n",
       "      <td>9</td>\n",
       "      <td>7</td>\n",
       "    </tr>\n",
       "    <tr>\n",
       "      <th>1</th>\n",
       "      <td>CBCB-9C9D</td>\n",
       "      <td>Leonerd</td>\n",
       "      <td>Aland</td>\n",
       "      <td>Male</td>\n",
       "      <td>38</td>\n",
       "      <td>Some Travel</td>\n",
       "      <td>Sales</td>\n",
       "      <td>23</td>\n",
       "      <td>CA</td>\n",
       "      <td>White</td>\n",
       "      <td>...</td>\n",
       "      <td>Single</td>\n",
       "      <td>157718</td>\n",
       "      <td>0</td>\n",
       "      <td>Yes</td>\n",
       "      <td>2012-01-04</td>\n",
       "      <td>No</td>\n",
       "      <td>10</td>\n",
       "      <td>6</td>\n",
       "      <td>10</td>\n",
       "      <td>0</td>\n",
       "    </tr>\n",
       "    <tr>\n",
       "      <th>2</th>\n",
       "      <td>95D7-1CE9</td>\n",
       "      <td>Ahmed</td>\n",
       "      <td>Sykes</td>\n",
       "      <td>Male</td>\n",
       "      <td>43</td>\n",
       "      <td>Some Travel</td>\n",
       "      <td>Human Resources</td>\n",
       "      <td>29</td>\n",
       "      <td>CA</td>\n",
       "      <td>Asian or Asian American</td>\n",
       "      <td>...</td>\n",
       "      <td>Married</td>\n",
       "      <td>309964</td>\n",
       "      <td>1</td>\n",
       "      <td>No</td>\n",
       "      <td>2012-01-04</td>\n",
       "      <td>No</td>\n",
       "      <td>10</td>\n",
       "      <td>6</td>\n",
       "      <td>10</td>\n",
       "      <td>8</td>\n",
       "    </tr>\n",
       "    <tr>\n",
       "      <th>3</th>\n",
       "      <td>47A0-559B</td>\n",
       "      <td>Ermentrude</td>\n",
       "      <td>Berrie</td>\n",
       "      <td>Non-Binary</td>\n",
       "      <td>39</td>\n",
       "      <td>Some Travel</td>\n",
       "      <td>Technology</td>\n",
       "      <td>12</td>\n",
       "      <td>IL</td>\n",
       "      <td>White</td>\n",
       "      <td>...</td>\n",
       "      <td>Married</td>\n",
       "      <td>293132</td>\n",
       "      <td>0</td>\n",
       "      <td>No</td>\n",
       "      <td>2012-01-05</td>\n",
       "      <td>No</td>\n",
       "      <td>10</td>\n",
       "      <td>10</td>\n",
       "      <td>10</td>\n",
       "      <td>0</td>\n",
       "    </tr>\n",
       "    <tr>\n",
       "      <th>4</th>\n",
       "      <td>42CC-040A</td>\n",
       "      <td>Stace</td>\n",
       "      <td>Savege</td>\n",
       "      <td>Female</td>\n",
       "      <td>29</td>\n",
       "      <td>Some Travel</td>\n",
       "      <td>Human Resources</td>\n",
       "      <td>29</td>\n",
       "      <td>CA</td>\n",
       "      <td>White</td>\n",
       "      <td>...</td>\n",
       "      <td>Single</td>\n",
       "      <td>49606</td>\n",
       "      <td>0</td>\n",
       "      <td>No</td>\n",
       "      <td>2012-01-05</td>\n",
       "      <td>Yes</td>\n",
       "      <td>6</td>\n",
       "      <td>1</td>\n",
       "      <td>1</td>\n",
       "      <td>6</td>\n",
       "    </tr>\n",
       "  </tbody>\n",
       "</table>\n",
       "<p>5 rows × 23 columns</p>\n",
       "</div>"
      ],
      "text/plain": [
       "  EmployeeID   FirstName LastName      Gender  Age BusinessTravel  \\\n",
       "0  3012-1A41    Leonelle    Simco      Female   30    Some Travel   \n",
       "1  CBCB-9C9D     Leonerd    Aland        Male   38    Some Travel   \n",
       "2  95D7-1CE9       Ahmed    Sykes        Male   43    Some Travel   \n",
       "3  47A0-559B  Ermentrude   Berrie  Non-Binary   39    Some Travel   \n",
       "4  42CC-040A       Stace   Savege      Female   29    Some Travel   \n",
       "\n",
       "        Department  DistanceFromHome (KM) State                Ethnicity  ...  \\\n",
       "0            Sales                     27    IL                    White  ...   \n",
       "1            Sales                     23    CA                    White  ...   \n",
       "2  Human Resources                     29    CA  Asian or Asian American  ...   \n",
       "3       Technology                     12    IL                    White  ...   \n",
       "4  Human Resources                     29    CA                    White  ...   \n",
       "\n",
       "   MaritalStatus  Salary StockOptionLevel OverTime   HireDate  Attrition  \\\n",
       "0       Divorced  102059                1       No 2012-01-03         No   \n",
       "1         Single  157718                0      Yes 2012-01-04         No   \n",
       "2        Married  309964                1       No 2012-01-04         No   \n",
       "3        Married  293132                0       No 2012-01-05         No   \n",
       "4         Single   49606                0       No 2012-01-05        Yes   \n",
       "\n",
       "  YearsAtCompany YearsInMostRecentRole YearsSinceLastPromotion  \\\n",
       "0             10                     4                       9   \n",
       "1             10                     6                      10   \n",
       "2             10                     6                      10   \n",
       "3             10                    10                      10   \n",
       "4              6                     1                       1   \n",
       "\n",
       "   YearsWithCurrManager  \n",
       "0                     7  \n",
       "1                     0  \n",
       "2                     8  \n",
       "3                     0  \n",
       "4                     6  \n",
       "\n",
       "[5 rows x 23 columns]"
      ]
     },
     "execution_count": 7,
     "metadata": {},
     "output_type": "execute_result"
    }
   ],
   "source": [
    "print(df.shape)\n",
    "df.head()"
   ]
  },
  {
   "cell_type": "markdown",
   "id": "b8efb351",
   "metadata": {},
   "source": [
    "### Data cleaning"
   ]
  },
  {
   "cell_type": "code",
   "execution_count": 5,
   "id": "baa81f0f",
   "metadata": {},
   "outputs": [
    {
     "name": "stdout",
     "output_type": "stream",
     "text": [
      "<class 'pandas.core.frame.DataFrame'>\n",
      "RangeIndex: 1470 entries, 0 to 1469\n",
      "Data columns (total 23 columns):\n",
      " #   Column                   Non-Null Count  Dtype \n",
      "---  ------                   --------------  ----- \n",
      " 0   EmployeeID               1470 non-null   object\n",
      " 1   FirstName                1470 non-null   object\n",
      " 2   LastName                 1470 non-null   object\n",
      " 3   Gender                   1470 non-null   object\n",
      " 4   Age                      1470 non-null   int64 \n",
      " 5   BusinessTravel           1470 non-null   object\n",
      " 6   Department               1470 non-null   object\n",
      " 7   DistanceFromHome (KM)    1470 non-null   int64 \n",
      " 8   State                    1470 non-null   object\n",
      " 9   Ethnicity                1470 non-null   object\n",
      " 10  Education                1470 non-null   int64 \n",
      " 11  EducationField           1470 non-null   object\n",
      " 12  JobRole                  1470 non-null   object\n",
      " 13  MaritalStatus            1470 non-null   object\n",
      " 14  Salary                   1470 non-null   int64 \n",
      " 15  StockOptionLevel         1470 non-null   int64 \n",
      " 16  OverTime                 1470 non-null   object\n",
      " 17  HireDate                 1470 non-null   object\n",
      " 18  Attrition                1470 non-null   object\n",
      " 19  YearsAtCompany           1470 non-null   int64 \n",
      " 20  YearsInMostRecentRole    1470 non-null   int64 \n",
      " 21  YearsSinceLastPromotion  1470 non-null   int64 \n",
      " 22  YearsWithCurrManager     1470 non-null   int64 \n",
      "dtypes: int64(9), object(14)\n",
      "memory usage: 264.3+ KB\n"
     ]
    }
   ],
   "source": [
    "# Making sure the columns have the appropriate datatypes\n",
    "df.info()"
   ]
  },
  {
   "cell_type": "markdown",
   "id": "90a0cc10",
   "metadata": {},
   "source": [
    "#### Convert 'HireDate' column to Datetime data type"
   ]
  },
  {
   "cell_type": "code",
   "execution_count": 6,
   "id": "921d5328",
   "metadata": {},
   "outputs": [],
   "source": [
    "df['HireDate']=pd.to_datetime(df['HireDate'])"
   ]
  },
  {
   "cell_type": "code",
   "execution_count": 7,
   "id": "ca756c4e",
   "metadata": {},
   "outputs": [
    {
     "data": {
      "text/html": [
       "<div>\n",
       "<style scoped>\n",
       "    .dataframe tbody tr th:only-of-type {\n",
       "        vertical-align: middle;\n",
       "    }\n",
       "\n",
       "    .dataframe tbody tr th {\n",
       "        vertical-align: top;\n",
       "    }\n",
       "\n",
       "    .dataframe thead th {\n",
       "        text-align: right;\n",
       "    }\n",
       "</style>\n",
       "<table border=\"1\" class=\"dataframe\">\n",
       "  <thead>\n",
       "    <tr style=\"text-align: right;\">\n",
       "      <th></th>\n",
       "      <th>EducationLevelID</th>\n",
       "      <th>EducationLevel</th>\n",
       "    </tr>\n",
       "  </thead>\n",
       "  <tbody>\n",
       "    <tr>\n",
       "      <th>0</th>\n",
       "      <td>1</td>\n",
       "      <td>No Formal Qualifications</td>\n",
       "    </tr>\n",
       "    <tr>\n",
       "      <th>1</th>\n",
       "      <td>2</td>\n",
       "      <td>High School</td>\n",
       "    </tr>\n",
       "    <tr>\n",
       "      <th>2</th>\n",
       "      <td>3</td>\n",
       "      <td>Bachelors</td>\n",
       "    </tr>\n",
       "    <tr>\n",
       "      <th>3</th>\n",
       "      <td>4</td>\n",
       "      <td>Masters</td>\n",
       "    </tr>\n",
       "    <tr>\n",
       "      <th>4</th>\n",
       "      <td>5</td>\n",
       "      <td>Doctorate</td>\n",
       "    </tr>\n",
       "  </tbody>\n",
       "</table>\n",
       "</div>"
      ],
      "text/plain": [
       "   EducationLevelID            EducationLevel\n",
       "0                 1  No Formal Qualifications\n",
       "1                 2               High School\n",
       "2                 3                 Bachelors\n",
       "3                 4                   Masters\n",
       "4                 5                 Doctorate"
      ]
     },
     "execution_count": 7,
     "metadata": {},
     "output_type": "execute_result"
    }
   ],
   "source": [
    "#education table\n",
    "education"
   ]
  },
  {
   "cell_type": "markdown",
   "id": "b60efc40",
   "metadata": {},
   "source": [
    "#### Replace the education level IDs with corresponding degrees"
   ]
  },
  {
   "cell_type": "code",
   "execution_count": 8,
   "id": "50a50424",
   "metadata": {},
   "outputs": [],
   "source": [
    "df['Education']= df[['Education']].replace(to_replace=[5,4,3,2,1],value=['Doctorate','Masters','Bachelors','High School','No Formal Qualifications'])"
   ]
  },
  {
   "cell_type": "code",
   "execution_count": 123,
   "id": "0e403970",
   "metadata": {},
   "outputs": [
    {
     "data": {
      "text/html": [
       "<div>\n",
       "<style scoped>\n",
       "    .dataframe tbody tr th:only-of-type {\n",
       "        vertical-align: middle;\n",
       "    }\n",
       "\n",
       "    .dataframe tbody tr th {\n",
       "        vertical-align: top;\n",
       "    }\n",
       "\n",
       "    .dataframe thead th {\n",
       "        text-align: right;\n",
       "    }\n",
       "</style>\n",
       "<table border=\"1\" class=\"dataframe\">\n",
       "  <thead>\n",
       "    <tr style=\"text-align: right;\">\n",
       "      <th></th>\n",
       "      <th>Education</th>\n",
       "    </tr>\n",
       "  </thead>\n",
       "  <tbody>\n",
       "    <tr>\n",
       "      <th>0</th>\n",
       "      <td>Doctorate</td>\n",
       "    </tr>\n",
       "    <tr>\n",
       "      <th>1</th>\n",
       "      <td>Masters</td>\n",
       "    </tr>\n",
       "    <tr>\n",
       "      <th>2</th>\n",
       "      <td>Masters</td>\n",
       "    </tr>\n",
       "    <tr>\n",
       "      <th>3</th>\n",
       "      <td>Bachelors</td>\n",
       "    </tr>\n",
       "    <tr>\n",
       "      <th>4</th>\n",
       "      <td>High School</td>\n",
       "    </tr>\n",
       "    <tr>\n",
       "      <th>...</th>\n",
       "      <td>...</td>\n",
       "    </tr>\n",
       "    <tr>\n",
       "      <th>1465</th>\n",
       "      <td>High School</td>\n",
       "    </tr>\n",
       "    <tr>\n",
       "      <th>1466</th>\n",
       "      <td>Bachelors</td>\n",
       "    </tr>\n",
       "    <tr>\n",
       "      <th>1467</th>\n",
       "      <td>Masters</td>\n",
       "    </tr>\n",
       "    <tr>\n",
       "      <th>1468</th>\n",
       "      <td>Bachelors</td>\n",
       "    </tr>\n",
       "    <tr>\n",
       "      <th>1469</th>\n",
       "      <td>High School</td>\n",
       "    </tr>\n",
       "  </tbody>\n",
       "</table>\n",
       "<p>1470 rows × 1 columns</p>\n",
       "</div>"
      ],
      "text/plain": [
       "        Education\n",
       "0       Doctorate\n",
       "1         Masters\n",
       "2         Masters\n",
       "3       Bachelors\n",
       "4     High School\n",
       "...           ...\n",
       "1465  High School\n",
       "1466    Bachelors\n",
       "1467      Masters\n",
       "1468    Bachelors\n",
       "1469  High School\n",
       "\n",
       "[1470 rows x 1 columns]"
      ]
     },
     "execution_count": 123,
     "metadata": {},
     "output_type": "execute_result"
    }
   ],
   "source": [
    "df.head()\n",
    "df[['Education']]\n"
   ]
  },
  {
   "cell_type": "markdown",
   "id": "ccb675b2",
   "metadata": {},
   "source": [
    "#### Change the values of Attrition column to 1 and 0"
   ]
  },
  {
   "cell_type": "code",
   "execution_count": 9,
   "id": "13497f67",
   "metadata": {},
   "outputs": [
    {
     "data": {
      "text/plain": [
       "0       0\n",
       "1       0\n",
       "2       0\n",
       "3       0\n",
       "4       1\n",
       "       ..\n",
       "1465    0\n",
       "1466    0\n",
       "1467    0\n",
       "1468    0\n",
       "1469    0\n",
       "Name: Attrition, Length: 1470, dtype: int64"
      ]
     },
     "execution_count": 9,
     "metadata": {},
     "output_type": "execute_result"
    }
   ],
   "source": [
    "df['Attrition']= df['Attrition'].replace(to_replace=['Yes','No'], value=[1,0])\n",
    "df['Attrition']"
   ]
  },
  {
   "cell_type": "markdown",
   "id": "0da639f9",
   "metadata": {},
   "source": [
    "#### Create a 'hire_year' column"
   ]
  },
  {
   "cell_type": "code",
   "execution_count": 10,
   "id": "73073261",
   "metadata": {},
   "outputs": [],
   "source": [
    "#create a year column from hire date\n",
    "df['hire_year']= df['HireDate'].dt.year"
   ]
  },
  {
   "cell_type": "code",
   "execution_count": 11,
   "id": "85d02d37",
   "metadata": {},
   "outputs": [
    {
     "data": {
      "text/html": [
       "<div>\n",
       "<style scoped>\n",
       "    .dataframe tbody tr th:only-of-type {\n",
       "        vertical-align: middle;\n",
       "    }\n",
       "\n",
       "    .dataframe tbody tr th {\n",
       "        vertical-align: top;\n",
       "    }\n",
       "\n",
       "    .dataframe thead th {\n",
       "        text-align: right;\n",
       "    }\n",
       "</style>\n",
       "<table border=\"1\" class=\"dataframe\">\n",
       "  <thead>\n",
       "    <tr style=\"text-align: right;\">\n",
       "      <th></th>\n",
       "      <th>hire_year</th>\n",
       "    </tr>\n",
       "  </thead>\n",
       "  <tbody>\n",
       "    <tr>\n",
       "      <th>0</th>\n",
       "      <td>2012</td>\n",
       "    </tr>\n",
       "    <tr>\n",
       "      <th>1</th>\n",
       "      <td>2012</td>\n",
       "    </tr>\n",
       "    <tr>\n",
       "      <th>2</th>\n",
       "      <td>2012</td>\n",
       "    </tr>\n",
       "    <tr>\n",
       "      <th>3</th>\n",
       "      <td>2012</td>\n",
       "    </tr>\n",
       "    <tr>\n",
       "      <th>4</th>\n",
       "      <td>2012</td>\n",
       "    </tr>\n",
       "    <tr>\n",
       "      <th>...</th>\n",
       "      <td>...</td>\n",
       "    </tr>\n",
       "    <tr>\n",
       "      <th>1465</th>\n",
       "      <td>2022</td>\n",
       "    </tr>\n",
       "    <tr>\n",
       "      <th>1466</th>\n",
       "      <td>2022</td>\n",
       "    </tr>\n",
       "    <tr>\n",
       "      <th>1467</th>\n",
       "      <td>2022</td>\n",
       "    </tr>\n",
       "    <tr>\n",
       "      <th>1468</th>\n",
       "      <td>2022</td>\n",
       "    </tr>\n",
       "    <tr>\n",
       "      <th>1469</th>\n",
       "      <td>2022</td>\n",
       "    </tr>\n",
       "  </tbody>\n",
       "</table>\n",
       "<p>1470 rows × 1 columns</p>\n",
       "</div>"
      ],
      "text/plain": [
       "      hire_year\n",
       "0          2012\n",
       "1          2012\n",
       "2          2012\n",
       "3          2012\n",
       "4          2012\n",
       "...         ...\n",
       "1465       2022\n",
       "1466       2022\n",
       "1467       2022\n",
       "1468       2022\n",
       "1469       2022\n",
       "\n",
       "[1470 rows x 1 columns]"
      ]
     },
     "execution_count": 11,
     "metadata": {},
     "output_type": "execute_result"
    }
   ],
   "source": [
    "df[['hire_year']]"
   ]
  },
  {
   "cell_type": "markdown",
   "id": "8cdbdbe4",
   "metadata": {},
   "source": [
    "### Exploratory Data Analysis (EDA)"
   ]
  },
  {
   "cell_type": "markdown",
   "id": "5d6e5ebc",
   "metadata": {},
   "source": [
    "### Employee count by Education"
   ]
  },
  {
   "cell_type": "code",
   "execution_count": 176,
   "id": "f7d4c448",
   "metadata": {},
   "outputs": [
    {
     "name": "stdout",
     "output_type": "stream",
     "text": [
      "Doctorate                    48\n",
      "No Formal Qualifications    170\n",
      "High School                 282\n",
      "Masters                     398\n",
      "Bachelors                   572\n",
      "Name: Education, dtype: int64\n"
     ]
    },
    {
     "data": {
      "text/plain": [
       "<BarContainer object of 5 artists>"
      ]
     },
     "execution_count": 176,
     "metadata": {},
     "output_type": "execute_result"
    },
    {
     "data": {
      "image/png": "[encoded data removed]",
      "text/plain": [
       "<Figure size 640x480 with 1 Axes>"
      ]
     },
     "metadata": {},
     "output_type": "display_data"
    }
   ],
   "source": [
    "edu= df['Education'].value_counts(ascending=True)\n",
    "print(edu)\n",
    "x_edu=edu.index.tolist()\n",
    "y_edu= edu.values.tolist()\n",
    "plt.barh(x_edu,y_edu, color='purple')"
   ]
  },
  {
   "cell_type": "markdown",
   "id": "c9767777",
   "metadata": {},
   "source": [
    "### Current number of employees in the company"
   ]
  },
  {
   "cell_type": "code",
   "execution_count": 177,
   "id": "ee54155a",
   "metadata": {},
   "outputs": [
    {
     "data": {
      "text/plain": [
       "0    1233\n",
       "1     237\n",
       "Name: Attrition, dtype: int64"
      ]
     },
     "execution_count": 177,
     "metadata": {},
     "output_type": "execute_result"
    }
   ],
   "source": [
    "#Checking the number of active employees and those who left the company\n",
    "df['Attrition'].value_counts()"
   ]
  },
  {
   "cell_type": "markdown",
   "id": "4d7cb172",
   "metadata": {},
   "source": [
    "### Number of employees that left the company"
   ]
  },
  {
   "cell_type": "code",
   "execution_count": 12,
   "id": "1031102c",
   "metadata": {},
   "outputs": [
    {
     "data": {
      "text/plain": [
       "1.0    237\n",
       "Name: Attrition, dtype: int64"
      ]
     },
     "execution_count": 12,
     "metadata": {},
     "output_type": "execute_result"
    }
   ],
   "source": [
    "df['Attrition'].where(df['Attrition']==1).value_counts()"
   ]
  },
  {
   "cell_type": "markdown",
   "id": "be1745fe",
   "metadata": {},
   "source": [
    "#### Therefore, there are 1,233 active employees and 237 employees left the company"
   ]
  },
  {
   "cell_type": "markdown",
   "id": "0a12c0d9",
   "metadata": {},
   "source": [
    "### Average employee age"
   ]
  },
  {
   "cell_type": "code",
   "execution_count": 13,
   "id": "6c29957f",
   "metadata": {},
   "outputs": [
    {
     "data": {
      "text/plain": [
       "28.989795918367346"
      ]
     },
     "execution_count": 13,
     "metadata": {},
     "output_type": "execute_result"
    }
   ],
   "source": [
    "#Average age of employees\n",
    "df['Age'].mean()\n"
   ]
  },
  {
   "cell_type": "markdown",
   "id": "7d2c4cd9",
   "metadata": {},
   "source": [
    "### Average salary by job roles"
   ]
  },
  {
   "cell_type": "code",
   "execution_count": 14,
   "id": "460ae51a",
   "metadata": {},
   "outputs": [
    {
     "name": "stdout",
     "output_type": "stream",
     "text": [
      "JobRole\n",
      "Recruiter                     37647.500000\n",
      "Sales Representative          40656.421687\n",
      "Software Engineer             51967.051020\n",
      "Data Scientist                56079.494253\n",
      "HR Executive                  94362.321429\n",
      "Sales Executive              117195.538226\n",
      "Senior Software Engineer     126161.295455\n",
      "Machine Learning Engineer    130164.616438\n",
      "Engineering Manager          286258.506667\n",
      "HR Business Partner          314002.428571\n",
      "Manager                      317531.054054\n",
      "Analytics Manager            346484.230769\n",
      "HR Manager                   449330.750000\n",
      "Name: Salary, dtype: float64\n"
     ]
    }
   ],
   "source": [
    "#Average salary by job roles\n",
    "salary=df.groupby('JobRole')['Salary'].mean().sort_values()\n",
    "print(salary)\n",
    "\n",
    "x_sal= salary.index.tolist()\n",
    "y_sal = salary.values.tolist()"
   ]
  },
  {
   "cell_type": "code",
   "execution_count": 15,
   "id": "729518b6",
   "metadata": {},
   "outputs": [
    {
     "data": {
      "text/plain": [
       "<BarContainer object of 13 artists>"
      ]
     },
     "execution_count": 15,
     "metadata": {},
     "output_type": "execute_result"
    },
    {
     "data": {
      "image/png": "[encoded data removed]",
      "text/plain": [
       "<Figure size 640x480 with 1 Axes>"
      ]
     },
     "metadata": {},
     "output_type": "display_data"
    }
   ],
   "source": [
    "plt.barh(x_sal,y_sal, color= 'green')"
   ]
  },
  {
   "cell_type": "markdown",
   "id": "4ed3b7c0",
   "metadata": {},
   "source": [
    "### Number of departments"
   ]
  },
  {
   "cell_type": "code",
   "execution_count": 16,
   "id": "24d52799",
   "metadata": {},
   "outputs": [
    {
     "data": {
      "text/plain": [
       "3"
      ]
     },
     "execution_count": 16,
     "metadata": {},
     "output_type": "execute_result"
    }
   ],
   "source": [
    "depts= df['Department'].nunique()\n",
    "depts"
   ]
  },
  {
   "cell_type": "markdown",
   "id": "832a3619",
   "metadata": {},
   "source": [
    "### Gender count before attrition"
   ]
  },
  {
   "cell_type": "code",
   "execution_count": 17,
   "id": "94061130",
   "metadata": {},
   "outputs": [
    {
     "data": {
      "text/plain": [
       "Female               675\n",
       "Male                 651\n",
       "Non-Binary           124\n",
       "Prefer Not To Say     20\n",
       "Name: Gender, dtype: int64"
      ]
     },
     "execution_count": 17,
     "metadata": {},
     "output_type": "execute_result"
    }
   ],
   "source": [
    "#gender count before attrition\n",
    "df.Gender.value_counts()"
   ]
  },
  {
   "cell_type": "markdown",
   "id": "fc544099",
   "metadata": {},
   "source": [
    "### Gender count of employees that left"
   ]
  },
  {
   "cell_type": "code",
   "execution_count": 18,
   "id": "ca14606a",
   "metadata": {},
   "outputs": [
    {
     "data": {
      "text/plain": [
       "Male          114\n",
       "Female        104\n",
       "Non-Binary     19\n",
       "Name: Gender, dtype: int64"
      ]
     },
     "execution_count": 18,
     "metadata": {},
     "output_type": "execute_result"
    }
   ],
   "source": [
    "#gender count of employees that left\n",
    "\n",
    "df.Gender.where(df['Attrition']==1).value_counts()\n"
   ]
  },
  {
   "cell_type": "markdown",
   "id": "732555f6",
   "metadata": {},
   "source": [
    "### Gender count of active employees"
   ]
  },
  {
   "cell_type": "code",
   "execution_count": 19,
   "id": "a0595265",
   "metadata": {},
   "outputs": [
    {
     "data": {
      "text/plain": [
       "Female               571\n",
       "Male                 537\n",
       "Non-Binary           105\n",
       "Prefer Not To Say     20\n",
       "Name: Gender, dtype: int64"
      ]
     },
     "execution_count": 19,
     "metadata": {},
     "output_type": "execute_result"
    }
   ],
   "source": [
    "#gender count of active employees\n",
    "df.Gender.where(df['Attrition']==0).value_counts()"
   ]
  },
  {
   "cell_type": "code",
   "execution_count": 20,
   "id": "6523b5e0",
   "metadata": {},
   "outputs": [
    {
     "name": "stdout",
     "output_type": "stream",
     "text": [
      "Gender           \n",
      "Female               571\n",
      "Male                 537\n",
      "Non-Binary           105\n",
      "Prefer Not To Say     20\n",
      "dtype: int64\n"
     ]
    },
    {
     "data": {
      "text/plain": [
       "<AxesSubplot:xlabel='Gender', ylabel='count'>"
      ]
     },
     "execution_count": 20,
     "metadata": {},
     "output_type": "execute_result"
    },
    {
     "data": {
      "image/png": "[encoded data removed]",
      "text/plain": [
       "<Figure size 640x480 with 1 Axes>"
      ]
     },
     "metadata": {},
     "output_type": "display_data"
    }
   ],
   "source": [
    "genders= df[['Gender']].where(df['Attrition']==0).value_counts()\n",
    "active_gender = df[['Gender']].where(df['Attrition']==0)\n",
    "print(genders)\n",
    "\n",
    "\n",
    "sns.countplot(x='Gender',data=active_gender,color='green')\n"
   ]
  },
  {
   "cell_type": "markdown",
   "id": "8dad77c8",
   "metadata": {},
   "source": [
    "### Employee count by department"
   ]
  },
  {
   "cell_type": "code",
   "execution_count": 21,
   "id": "cd26ed94",
   "metadata": {},
   "outputs": [
    {
     "data": {
      "text/plain": [
       "<AxesSubplot:xlabel='Department', ylabel='count'>"
      ]
     },
     "execution_count": 21,
     "metadata": {},
     "output_type": "execute_result"
    },
    {
     "data": {
      "image/png": "[encoded data removed]",
      "text/plain": [
       "<Figure size 640x480 with 1 Axes>"
      ]
     },
     "metadata": {},
     "output_type": "display_data"
    }
   ],
   "source": [
    "sns.countplot(x='Department',data=df, color='green')"
   ]
  },
  {
   "cell_type": "markdown",
   "id": "f29aee45",
   "metadata": {},
   "source": [
    "### Employees working overtime by department"
   ]
  },
  {
   "cell_type": "code",
   "execution_count": 22,
   "id": "7ea6ec10",
   "metadata": {},
   "outputs": [
    {
     "name": "stdout",
     "output_type": "stream",
     "text": [
      "Technology         271\n",
      "Sales              128\n",
      "Human Resources     17\n",
      "Name: Department, dtype: int64\n"
     ]
    },
    {
     "data": {
      "text/plain": [
       "<BarContainer object of 3 artists>"
      ]
     },
     "execution_count": 22,
     "metadata": {},
     "output_type": "execute_result"
    },
    {
     "data": {
      "image/png": "[encoded data removed]",
      "text/plain": [
       "<Figure size 640x480 with 1 Axes>"
      ]
     },
     "metadata": {},
     "output_type": "display_data"
    }
   ],
   "source": [
    "emp_count = df.Department.where(df['OverTime']=='Yes').value_counts()\n",
    "print(emp_count)\n",
    "x_emp= emp_count.index.tolist()\n",
    "y_emp = emp_count.values.tolist()\n",
    "\n",
    "plt.bar(x_emp,y_emp, color='green')"
   ]
  },
  {
   "cell_type": "markdown",
   "id": "0f3d5d54",
   "metadata": {},
   "source": [
    "### Attrition by year"
   ]
  },
  {
   "cell_type": "code",
   "execution_count": 23,
   "id": "04c567a5",
   "metadata": {},
   "outputs": [
    {
     "data": {
      "text/html": [
       "<div>\n",
       "<style scoped>\n",
       "    .dataframe tbody tr th:only-of-type {\n",
       "        vertical-align: middle;\n",
       "    }\n",
       "\n",
       "    .dataframe tbody tr th {\n",
       "        vertical-align: top;\n",
       "    }\n",
       "\n",
       "    .dataframe thead th {\n",
       "        text-align: right;\n",
       "    }\n",
       "</style>\n",
       "<table border=\"1\" class=\"dataframe\">\n",
       "  <thead>\n",
       "    <tr style=\"text-align: right;\">\n",
       "      <th></th>\n",
       "      <th>attr_year</th>\n",
       "    </tr>\n",
       "  </thead>\n",
       "  <tbody>\n",
       "    <tr>\n",
       "      <th>0</th>\n",
       "      <td>2022</td>\n",
       "    </tr>\n",
       "    <tr>\n",
       "      <th>1</th>\n",
       "      <td>2022</td>\n",
       "    </tr>\n",
       "    <tr>\n",
       "      <th>2</th>\n",
       "      <td>2022</td>\n",
       "    </tr>\n",
       "    <tr>\n",
       "      <th>3</th>\n",
       "      <td>2022</td>\n",
       "    </tr>\n",
       "    <tr>\n",
       "      <th>4</th>\n",
       "      <td>2018</td>\n",
       "    </tr>\n",
       "    <tr>\n",
       "      <th>...</th>\n",
       "      <td>...</td>\n",
       "    </tr>\n",
       "    <tr>\n",
       "      <th>1465</th>\n",
       "      <td>2022</td>\n",
       "    </tr>\n",
       "    <tr>\n",
       "      <th>1466</th>\n",
       "      <td>2022</td>\n",
       "    </tr>\n",
       "    <tr>\n",
       "      <th>1467</th>\n",
       "      <td>2022</td>\n",
       "    </tr>\n",
       "    <tr>\n",
       "      <th>1468</th>\n",
       "      <td>2022</td>\n",
       "    </tr>\n",
       "    <tr>\n",
       "      <th>1469</th>\n",
       "      <td>2022</td>\n",
       "    </tr>\n",
       "  </tbody>\n",
       "</table>\n",
       "<p>1470 rows × 1 columns</p>\n",
       "</div>"
      ],
      "text/plain": [
       "      attr_year\n",
       "0          2022\n",
       "1          2022\n",
       "2          2022\n",
       "3          2022\n",
       "4          2018\n",
       "...         ...\n",
       "1465       2022\n",
       "1466       2022\n",
       "1467       2022\n",
       "1468       2022\n",
       "1469       2022\n",
       "\n",
       "[1470 rows x 1 columns]"
      ]
     },
     "execution_count": 23,
     "metadata": {},
     "output_type": "execute_result"
    }
   ],
   "source": [
    "df['attr_year']= df['hire_year']+df['YearsAtCompany']\n",
    "df[['attr_year']]"
   ]
  },
  {
   "cell_type": "code",
   "execution_count": 24,
   "id": "1315d197",
   "metadata": {},
   "outputs": [
    {
     "data": {
      "text/plain": [
       "2021.0    60\n",
       "2022.0    54\n",
       "2020.0    32\n",
       "2018.0    21\n",
       "2019.0    21\n",
       "2017.0    14\n",
       "2016.0    12\n",
       "2015.0    11\n",
       "2014.0    10\n",
       "2013.0     2\n",
       "Name: attr_year, dtype: int64"
      ]
     },
     "execution_count": 24,
     "metadata": {},
     "output_type": "execute_result"
    }
   ],
   "source": [
    "df.attr_year.where(df['Attrition']==1).value_counts()"
   ]
  },
  {
   "cell_type": "code",
   "execution_count": 25,
   "id": "ca4acec9",
   "metadata": {},
   "outputs": [
    {
     "name": "stdout",
     "output_type": "stream",
     "text": [
      "attr_year\n",
      "2013     2\n",
      "2014    10\n",
      "2015    11\n",
      "2016    12\n",
      "2017    14\n",
      "2018    21\n",
      "2019    21\n",
      "2020    32\n",
      "2021    60\n",
      "2022    54\n",
      "Name: Attrition, dtype: int64\n"
     ]
    },
    {
     "data": {
      "text/plain": [
       "<AxesSubplot:xlabel='attr_year', ylabel='Attrition'>"
      ]
     },
     "execution_count": 25,
     "metadata": {},
     "output_type": "execute_result"
    },
    {
     "data": {
      "image/png": "[encoded data removed]",
      "text/plain": [
       "<Figure size 640x480 with 1 Axes>"
      ]
     },
     "metadata": {},
     "output_type": "display_data"
    }
   ],
   "source": [
    "year_attr= df.groupby('attr_year')['Attrition'].sum()\n",
    "print(year_attr)\n",
    "\n",
    "sns.lineplot(data=year_attr, color='green')"
   ]
  },
  {
   "cell_type": "markdown",
   "id": "bd90e977",
   "metadata": {},
   "source": [
    "### Attrition by job roles"
   ]
  },
  {
   "cell_type": "code",
   "execution_count": 26,
   "id": "b08ea115",
   "metadata": {},
   "outputs": [],
   "source": [
    "\n",
    "job= df.groupby('JobRole')['Attrition'].sum().sort_values(ascending=True)\n",
    "job\n",
    "x=job.index.tolist()\n",
    "y= job.values.tolist()"
   ]
  },
  {
   "cell_type": "code",
   "execution_count": 27,
   "id": "189f3d91",
   "metadata": {},
   "outputs": [
    {
     "data": {
      "text/plain": [
       "<BarContainer object of 13 artists>"
      ]
     },
     "execution_count": 27,
     "metadata": {},
     "output_type": "execute_result"
    },
    {
     "data": {
      "image/png": "[encoded data removed]",
      "text/plain": [
       "<Figure size 640x480 with 1 Axes>"
      ]
     },
     "metadata": {},
     "output_type": "display_data"
    }
   ],
   "source": [
    "#sns.countplot(data=job,y = df['JobRole'],color='green')\n",
    "plt.barh(x,y, color='purple')"
   ]
  },
  {
   "cell_type": "markdown",
   "id": "669f0027",
   "metadata": {},
   "source": [
    "### Attrition by age"
   ]
  },
  {
   "cell_type": "code",
   "execution_count": 28,
   "id": "31aaa93b",
   "metadata": {},
   "outputs": [
    {
     "name": "stdout",
     "output_type": "stream",
     "text": [
      "Age\n",
      "18     4\n",
      "19     8\n",
      "20    13\n",
      "21    18\n",
      "22    24\n",
      "23    10\n",
      "24    19\n",
      "25    21\n",
      "26    24\n",
      "27    12\n",
      "28    20\n",
      "29    22\n",
      "30     9\n",
      "31     5\n",
      "32     2\n",
      "33     1\n",
      "34     2\n",
      "35     0\n",
      "36     1\n",
      "37     1\n",
      "38     2\n",
      "39     4\n",
      "40     1\n",
      "41     5\n",
      "42     1\n",
      "43     2\n",
      "44     1\n",
      "45     1\n",
      "46     3\n",
      "47     0\n",
      "48     1\n",
      "49     0\n",
      "50     0\n",
      "51     0\n",
      "Name: Attrition, dtype: int64\n"
     ]
    },
    {
     "data": {
      "text/plain": [
       "<AxesSubplot:xlabel='Age', ylabel='Attrition'>"
      ]
     },
     "execution_count": 28,
     "metadata": {},
     "output_type": "execute_result"
    },
    {
     "data": {
      "image/png": "[encoded data removed]",
      "text/plain": [
       "<Figure size 640x480 with 1 Axes>"
      ]
     },
     "metadata": {},
     "output_type": "display_data"
    }
   ],
   "source": [
    "age=df.groupby('Age')['Attrition'].sum()\n",
    "print(age)\n",
    "\n",
    "x_age = age.index.tolist()\n",
    "y_age = age.values.tolist()\n",
    "\n",
    "sns.lineplot(data=age)"
   ]
  },
  {
   "cell_type": "code",
   "execution_count": 29,
   "id": "69cbc6c3",
   "metadata": {},
   "outputs": [
    {
     "data": {
      "text/plain": [
       "Text(0, 0.5, 'count')"
      ]
     },
     "execution_count": 29,
     "metadata": {},
     "output_type": "execute_result"
    },
    {
     "data": {
      "image/png": "[encoded data removed]",
      "text/plain": [
       "<Figure size 640x480 with 1 Axes>"
      ]
     },
     "metadata": {},
     "output_type": "display_data"
    }
   ],
   "source": [
    "#sns.lineplot(data=age, x=x, y=y)\n",
    "plt.bar(x_age,y_age)\n",
    "plt.xlabel('Age')\n",
    "plt.ylabel('count')"
   ]
  },
  {
   "cell_type": "markdown",
   "id": "afb02b13",
   "metadata": {},
   "source": [
    "### Attrition by years at company"
   ]
  },
  {
   "cell_type": "code",
   "execution_count": 32,
   "id": "5ac910bb",
   "metadata": {},
   "outputs": [
    {
     "data": {
      "text/plain": [
       "YearsAtCompany\n",
       "0     60\n",
       "1     61\n",
       "2     25\n",
       "3     24\n",
       "4     15\n",
       "5     20\n",
       "6     11\n",
       "7      9\n",
       "8      6\n",
       "9      5\n",
       "10     1\n",
       "Name: Attrition, dtype: int64"
      ]
     },
     "execution_count": 32,
     "metadata": {},
     "output_type": "execute_result"
    }
   ],
   "source": [
    "attr_yr = df.groupby('YearsAtCompany')['Attrition'].sum()\n",
    "attr_yr "
   ]
  },
  {
   "cell_type": "code",
   "execution_count": 223,
   "id": "a6c0b54a",
   "metadata": {},
   "outputs": [
    {
     "data": {
      "text/plain": [
       "Text(0, 0.5, 'Attrition count')"
      ]
     },
     "execution_count": 223,
     "metadata": {},
     "output_type": "execute_result"
    },
    {
     "data": {
      "image/png": "[encoded data removed]",
      "text/plain": [
       "<Figure size 640x480 with 1 Axes>"
      ]
     },
     "metadata": {},
     "output_type": "display_data"
    }
   ],
   "source": [
    "x_yr=attr_yr.index.tolist()\n",
    "y_yr = attr_yr.index.tolist()\n",
    "\n",
    "sns.lineplot(data=attr_yr)\n",
    "plt.ylabel('Attrition count')"
   ]
  },
  {
   "cell_type": "code",
   "execution_count": null,
   "id": "063177b3",
   "metadata": {},
   "outputs": [],
   "source": []
  }
 ],
 "metadata": {
  "kernelspec": {
   "display_name": "Python 3 (ipykernel)",
   "language": "python",
   "name": "python3"
  },
  "language_info": {
   "codemirror_mode": {
    "name": "ipython",
    "version": 3
   },
   "file_extension": ".py",
   "mimetype": "text/x-python",
   "name": "python",
   "nbconvert_exporter": "python",
   "pygments_lexer": "ipython3",
   "version": "3.9.13"
  }
 },
 "nbformat": 4,
 "nbformat_minor": 5
}
